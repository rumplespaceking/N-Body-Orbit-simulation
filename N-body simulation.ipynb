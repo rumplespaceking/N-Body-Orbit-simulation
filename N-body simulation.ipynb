{
 "cells": [
  {
   "cell_type": "code",
   "execution_count": 22,
   "id": "6b97c9a6",
   "metadata": {},
   "outputs": [],
   "source": [
    "#Defining Classes of Objects\n",
    "\n",
    "import numpy as np\n",
    "import matplotlib.pyplot as plt\n",
    "import math as mt\n",
    "from mpl_toolkits.mplot3d import Axes3D\n",
    "\n",
    "class point:\n",
    "    def __init__(self, x, y, z):\n",
    "        self.x = x\n",
    "        self.y = y\n",
    "        self.z = z\n",
    "\n",
    "class body:\n",
    "    def __init__(self, loc, vel, mass, name=\"\"):\n",
    "        self.loc = loc\n",
    "        self.vel = vel\n",
    "        self.mass = mass\n",
    "        self.name = name\n"
   ]
  },
  {
   "cell_type": "code",
   "execution_count": 23,
   "id": "6d4b3a12",
   "metadata": {},
   "outputs": [],
   "source": [
    "#Defining step increment function\n",
    "\n",
    "def step(point1, point2, dt):\n",
    "    inc = point(0, 0, 0)\n",
    "    inc.x = point1.x + point2.x * dt\n",
    "    inc.y = point1.y + point2.y * dt\n",
    "    inc.z = point1.z + point2.z * dt\n",
    "    return inc\n"
   ]
  },
  {
   "cell_type": "markdown",
   "id": "8b7aa970",
   "metadata": {},
   "source": [
    "In an N-body system of masses, the acceleration of a body using Newton's law of Gravitational Attraction is given by:\n",
    "\n",
    "$$ a_ix = \\sum_{i \\neq j}^{j} \\frac{Gm_j(x_j - x_i)}{((x_i - x_j)^2 + (y_i - y_j)^2 + (z_i - z_j)^2)^(\\frac{3}{2})}  \\hat{x} $$"
   ]
  },
  {
   "cell_type": "code",
   "execution_count": 24,
   "id": "a2ac6d76",
   "metadata": {},
   "outputs": [],
   "source": [
    "\n",
    "#Defining functions to calculate acceleration, velocity and location using RK4\n",
    "\n",
    "def calc_acc(bodies, b_i):\n",
    "    G = 6.674e-11 #m3 kg-1 s-2\n",
    "    acc = point(0, 0, 0)\n",
    "    target_bod = bodies[b_i]\n",
    "       \n",
    "    k1 = point(0, 0, 0)\n",
    "    k2 = point(0, 0, 0)\n",
    "    k3 = point(0, 0, 0)\n",
    "    k4 = point(0, 0, 0)\n",
    "    t_loc = point(0, 0, 0)\n",
    "    t_vel = point(0, 0, 0)\n",
    "    dt = 1e2\n",
    "        \n",
    "    for i, ext_bod in enumerate(bodies):\n",
    "        if i != b_i:\n",
    "            r = (target_bod.loc.x - ext_bod.loc.x)**2 + (target_bod.loc.y - ext_bod.loc.y)**2 + (target_bod.loc.z - ext_bod.loc.z)**2\n",
    "            r = mt.sqrt(r)\n",
    "            t = (G * ext_bod.mass) / r**3\n",
    "            \n",
    "                \n",
    "            k1.x = t * (ext_bod.loc.x - target_bod.loc.x)\n",
    "            k1.y = t * (ext_bod.loc.y - target_bod.loc.y) \n",
    "            k1.z = t * (ext_bod.loc.z - target_bod.loc.z)\n",
    "            \n",
    "            t_vel = step(target_bod.vel, k1, 0.5)\n",
    "            t_loc = step(target_bod.loc, t_vel, 0.5 * dt)\n",
    "            \n",
    "            k2.x = t * (ext_bod.loc.x - t_loc.x) \n",
    "            k2.y = t * (ext_bod.loc.y - t_loc.y) \n",
    "            k2.z = t * (ext_bod.loc.z - t_loc.z) \n",
    "                \n",
    "            t_vel = step(target_bod.vel, k2, 0.5)\n",
    "            t_loc = step(target_bod.loc, t_vel, 0.5 * dt)\n",
    "                \n",
    "            k3.x = t * (ext_bod.loc.x - t_loc.x) \n",
    "            k3.y = t * (ext_bod.loc.y - t_loc.y) \n",
    "            k3.z = t * (ext_bod.loc.z - t_loc.z) \n",
    "            \n",
    "            t_vel = step(target_bod.vel, k3, 1)\n",
    "            t_loc = step(target_bod.loc, t_vel, dt)\n",
    "                \n",
    "            k4.x = t * (ext_bod.loc.x - t_loc.x) \n",
    "            k4.y = t * (ext_bod.loc.y - t_loc.y) \n",
    "            k4.z = t * (ext_bod.loc.z - t_loc.z) \n",
    "                \n",
    "            acc.x += (k1.x + 2*k2.x + 2*k3.x + k4.x) / 6\n",
    "            acc.y += (k1.y + 2*k2.y + 2*k3.y + k4.y) / 6\n",
    "            acc.z += (k1.z + 2*k2.z + 2*k3.z + k4.z) / 6\n",
    "                \n",
    "    return acc\n",
    "    \n",
    "def calc_loc(bodies, dt = 1):\n",
    "    for target_bod in bodies:\n",
    "        target_bod.loc.x += target_bod.vel.x * dt\n",
    "        target_bod.loc.y += target_bod.vel.y * dt\n",
    "        target_bod.loc.z += target_bod.vel.z * dt\n",
    "                \n",
    "def calc_vel(bodies, dt = 1):\n",
    "    for b_i, target_bod in enumerate(bodies):\n",
    "        acc = calc_acc(bodies, b_i)\n",
    "        target_bod.vel.x += acc.x * dt\n",
    "        target_bod.vel.y += acc.y * dt\n",
    "        target_bod.vel.z += acc.z * dt\n",
    "            \n",
    "def calc_grav_step(bodies, dt = 1):\n",
    "    calc_vel(bodies, dt = dt)\n",
    "    calc_loc(bodies, dt = dt)\n",
    "        \n",
    "                \n",
    "            "
   ]
  },
  {
   "cell_type": "code",
   "execution_count": 25,
   "id": "59619326",
   "metadata": {},
   "outputs": [],
   "source": [
    "#Simulation function to store parameter lists \n",
    "\n",
    "def sim(bodies, names = None, dt = 1, steps = 1e4, freq = 1e2):\n",
    "    body_loc_hist = []\n",
    "    for curr_bod in bodies:\n",
    "        body_loc_hist.append({\"x\":[], \"y\":[], \"z\":[], \"name\":curr_bod.name})\n",
    "    for j in range(1, int(steps)):\n",
    "        calc_grav_step(bodies, dt = 1e4)\n",
    "        \n",
    "        if j % freq == 0:\n",
    "            for i, body_loc in enumerate(body_loc_hist):\n",
    "                body_loc[\"x\"].append(bodies[i].loc.x)\n",
    "                body_loc[\"y\"].append(bodies[i].loc.y)\n",
    "                body_loc[\"z\"].append(bodies[i].loc.z)\n",
    "    return body_loc_hist"
   ]
  },
  {
   "cell_type": "code",
   "execution_count": 26,
   "id": "ce1bfec5",
   "metadata": {},
   "outputs": [],
   "source": [
    "#PLotting Function \n",
    "\n",
    "def plot_out(bodies, outfile = None):\n",
    "    fig = plt.figure()\n",
    "    ax = fig.add_subplot(1, 1, 1, projection = '3d')\n",
    "    max_range = 0\n",
    "    for curr_bod in bodies:\n",
    "        max_dim = max(max(curr_bod[\"x\"]), max(curr_bod[\"y\"]), max(curr_bod[\"z\"]))\n",
    "        if max_dim > max_range:\n",
    "            max_range = max_dim\n",
    "        ax.plot(curr_bod[\"x\"], curr_bod[\"y\"], curr_bod[\"z\"], label = curr_bod[\"name\"])\n",
    "    ax.set_xlim([-max_range,max_range])\n",
    "    ax.set_ylim([-max_range,max_range])\n",
    "    ax.set_zlim([-max_range,max_range])\n",
    "    ax.legend()\n",
    "    \n",
    "    if outfile:\n",
    "        plt.savefig()\n",
    "    else:\n",
    "        plt.show()\n",
    "        \n",
    "        "
   ]
  },
  {
   "cell_type": "code",
   "execution_count": 27,
   "id": "3e77b81c",
   "metadata": {},
   "outputs": [],
   "source": [
    "sun = {\"location\":point(0,0,0), \"mass\":2e30, \"velocity\":point(0,0,0)}\n",
    "mercury = {\"location\":point(0,5.7e10,0), \"mass\":3.285e23, \"velocity\":point(47000,0,0)}\n",
    "venus = {\"location\":point(0,1.1e11,0), \"mass\":4.8e24, \"velocity\":point(35000,0,0)}\n",
    "earth = {\"location\":point(0,1.5e11,0), \"mass\":6e24, \"velocity\":point(30000,0,0)}\n",
    "mars = {\"location\":point(0,2.2e11,0), \"mass\":2.4e24, \"velocity\":point(24000,0,0)}\n",
    "jupiter = {\"location\":point(0,7.7e11,0), \"mass\":1e28, \"velocity\":point(13000,0,0)}\n",
    "saturn = {\"location\":point(0,1.4e12,0), \"mass\":5.7e26, \"velocity\":point(9000,0,0)}\n",
    "uranus = {\"location\":point(0,2.8e12,0), \"mass\":8.7e25, \"velocity\":point(6835,0,0)}\n",
    "neptune = {\"location\":point(0,4.5e12,0), \"mass\":1e26, \"velocity\":point(5477,0,0)}\n",
    "pluto = {\"location\":point(0,3.7e12,0), \"mass\":1.3e22, \"velocity\":point(4748,0,0)}\n",
    "sat = {\"location\":point(0,1e10,0), \"mass\":1e23, \"velocity\":point(3e4,0,0)}"
   ]
  },
  {
   "cell_type": "code",
   "execution_count": 21,
   "id": "0b9d18a4",
   "metadata": {},
   "outputs": [
    {
     "data": {
      "image/png": "[encoded data removed]",
      "text/plain": [
       "<Figure size 432x288 with 1 Axes>"
      ]
     },
     "metadata": {
      "needs_background": "light"
     },
     "output_type": "display_data"
    }
   ],
   "source": [
    "#Driver Code\n",
    "\n",
    "bodies = [\n",
    "    body(loc = sun[\"location\"], vel = sun[\"velocity\"], mass = sun[\"mass\"], name = \"sun\"),\n",
    "    body(loc = mercury[\"location\"], vel = mercury[\"velocity\"], mass = mercury[\"mass\"], name = \"mercury\"),\n",
    "    body(loc = venus[\"location\"], vel = venus[\"velocity\"], mass = venus[\"mass\"], name = \"venus\")\n",
    "    ]\n",
    "motion = sim(bodies, dt = 1e3, steps = 1e5, freq = 1e2)\n",
    "plot_out(motion, outfile = 'O')"
   ]
  },
  {
   "cell_type": "code",
   "execution_count": null,
   "id": "f97a8353",
   "metadata": {},
   "outputs": [],
   "source": []
  }
 ],
 "metadata": {
  "kernelspec": {
   "display_name": "Python 3",
   "language": "python",
   "name": "python3"
  },
  "language_info": {
   "codemirror_mode": {
    "name": "ipython",
    "version": 3
   },
   "file_extension": ".py",
   "mimetype": "text/x-python",
   "name": "python",
   "nbconvert_exporter": "python",
   "pygments_lexer": "ipython3",
   "version": "3.8.8"
  }
 },
 "nbformat": 4,
 "nbformat_minor": 5
}
